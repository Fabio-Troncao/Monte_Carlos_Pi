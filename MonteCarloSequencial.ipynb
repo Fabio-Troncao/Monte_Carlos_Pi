{
 "cells": [
  {
   "cell_type": "code",
   "execution_count": 1,
   "id": "f9594265",
   "metadata": {},
   "outputs": [
    {
     "name": "stdout",
     "output_type": "stream",
     "text": [
      "Digite o número para calcular o valor Pi Monte Carlo:\n",
      "Resultado final do valor Pi Monte Carlo= 3.1127112711271128\n",
      "Tempo de execução02 em segundos de relógio: 0.00399600000000000042 \n"
     ]
    }
   ],
   "source": [
    "import datetime\n",
    "import random as r\n",
    "import math as m\n",
    "\n",
    "def monteCarloPi(n):\n",
    "    # Número de dardos caindo dentro.\n",
    "    # n= Número n de dardos a serem lançados.\n",
    "    acertos=0\n",
    "    # Iterar para o número de dardos.\n",
    "    for i in range(0, n):\n",
    "        # Gere x, y aleatório em [0, 1].\n",
    "        x2 = r.random()**2\n",
    "        y2 = r.random()**2\n",
    "        # Incrementa se estiver dentro do círculo unitário.\n",
    "        if m.sqrt(x2 + y2) < 1.0:\n",
    "            acertos += 1\n",
    "                   \n",
    "    pi = (float(acertos) / n) * 4\n",
    "    return pi\n",
    "\n",
    "print(\"Digite o número para calcular o valor Pi Monte Carlo:\")\n",
    "n=int(input())\n",
    "  \n",
    "start_time = datetime.datetime.now()\n",
    "\n",
    "pi=monteCarloPi(n)\n",
    "  \n",
    "end_time = datetime.datetime.now()\n",
    "\n",
    "time_diff = (end_time - start_time)\n",
    "execution_time = time_diff.total_seconds() \n",
    "\n",
    "print(\"Resultado final do valor Pi Monte Carlo=\",pi)\n",
    "\n",
    "print(\"Tempo de execução02 em segundos de relógio: %.20lf \" % (execution_time))"
   ]
  },
  {
   "cell_type": "code",
   "execution_count": null,
   "id": "56381494",
   "metadata": {},
   "outputs": [],
   "source": []
  }
 ],
 "metadata": {
  "kernelspec": {
   "display_name": "Python 3.10.6 64-bit",
   "language": "python",
   "name": "python3"
  },
  "language_info": {
   "codemirror_mode": {
    "name": "ipython",
    "version": 3
   },
   "file_extension": ".py",
   "mimetype": "text/x-python",
   "name": "python",
   "nbconvert_exporter": "python",
   "pygments_lexer": "ipython3",
   "version": "3.10.6"
  },
  "vscode": {
   "interpreter": {
    "hash": "6f59339097bb9ac4cf41ab9fa2e7f783ea6bb84442f6ce2c2671fa41ded377c2"
   }
  }
 },
 "nbformat": 4,
 "nbformat_minor": 5
}
